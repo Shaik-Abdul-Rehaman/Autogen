{
 "cells": [
  {
   "cell_type": "code",
   "execution_count": 9,
   "id": "96061949",
   "metadata": {},
   "outputs": [],
   "source": [
    "from autogen_ext.models.openai import AzureOpenAIChatCompletionClient\n",
    "from dotenv import load_dotenv\n",
    "load_dotenv()\n",
    "import os\n",
    "from autogen_core.models import UserMessage"
   ]
  },
  {
   "cell_type": "code",
   "execution_count": 6,
   "id": "a7e7c7cf",
   "metadata": {},
   "outputs": [],
   "source": [
    "AZURE_CONFIG = {\n",
    "    'api_key': os.getenv(\"AZURE_OPENAI_API_KEY\"),\n",
    "    'api_version': os.getenv(\"AZURE_OPENAI_API_VERSION\"),\n",
    "    'azure_endpoint': os.getenv(\"AZURE_OPENAI_ENDPOINT\"),\n",
    "    'deployment_name': os.getenv(\"AZURE_OPENAI_DEPLOYMENT\")\n",
    "}"
   ]
  },
  {
   "cell_type": "code",
   "execution_count": 8,
   "id": "28496f79",
   "metadata": {},
   "outputs": [],
   "source": [
    "llm = AzureOpenAIChatCompletionClient(\n",
    "    api_key=AZURE_CONFIG[\"api_key\"],\n",
    "    model=AZURE_CONFIG[\"deployment_name\"],\n",
    "    api_version=AZURE_CONFIG[\"api_version\"],\n",
    "    azure_endpoint=AZURE_CONFIG[\"azure_endpoint\"]\n",
    ")"
   ]
  },
  {
   "cell_type": "code",
   "execution_count": 11,
   "id": "e7c4c9a8",
   "metadata": {},
   "outputs": [
    {
     "data": {
      "text/plain": [
       "'The capital of India is New Delhi.'"
      ]
     },
     "execution_count": 11,
     "metadata": {},
     "output_type": "execute_result"
    }
   ],
   "source": [
    "result=await llm.create([UserMessage(content=\"what is the capital of india?\",source=\"user\")])\n",
    "result.content"
   ]
  },
  {
   "cell_type": "markdown",
   "id": "017df2f8",
   "metadata": {},
   "source": [
    "### CreateResult(finish_reason='stop', content='The capital of India is New Delhi.', usage=RequestUsage(prompt_tokens=15, completion_tokens=9), cached=False, logprobs=None, thought=None)"
   ]
  },
  {
   "cell_type": "code",
   "execution_count": 12,
   "id": "5521af4d",
   "metadata": {},
   "outputs": [],
   "source": [
    "from autogen_agentchat.agents import AssistantAgent\n",
    "def web_search(query:str) -> str:\n",
    "    \"\"\"find information on the web\"\"\"\n",
    "    return \"Autogen is a programming framework for building multi-agent applications\"\n",
    "\n",
    "agent=AssistantAgent(\n",
    "    name=\"assistant\",\n",
    "    model_client=llm,\n",
    "    tools=[web_search],\n",
    "    system_message=\"Answer the user questions as per your knowledge and you can also use web search tool based on the user questions.\"\n",
    "    \n",
    ")"
   ]
  },
  {
   "cell_type": "code",
   "execution_count": 13,
   "id": "07fb4602",
   "metadata": {},
   "outputs": [],
   "source": [
    "result = await agent.run(task=\"Find information on AutoGen\")\n"
   ]
  },
  {
   "cell_type": "code",
   "execution_count": 14,
   "id": "d641709e",
   "metadata": {},
   "outputs": [
    {
     "data": {
      "text/plain": [
       "TaskResult(messages=[TextMessage(id='0e5dec3f-b3cf-4837-af85-928484c635de', source='user', models_usage=None, metadata={}, created_at=datetime.datetime(2025, 9, 14, 13, 4, 59, 257044, tzinfo=datetime.timezone.utc), content='Find information on AutoGen', type='TextMessage'), ToolCallRequestEvent(id='f024d1c6-2acb-41d3-9d0c-9f78bf89caba', source='assistant', models_usage=RequestUsage(prompt_tokens=77, completion_tokens=17), metadata={}, created_at=datetime.datetime(2025, 9, 14, 13, 5, 0, 695457, tzinfo=datetime.timezone.utc), content=[FunctionCall(id='call_dGtYzbIIVNFelKqlitU1kPgA', arguments='{\"query\":\"AutoGen technology\"}', name='web_search')], type='ToolCallRequestEvent'), ToolCallExecutionEvent(id='5b3c7857-b6bd-4e8c-a44a-5fd1f118a84e', source='assistant', models_usage=None, metadata={}, created_at=datetime.datetime(2025, 9, 14, 13, 5, 0, 706148, tzinfo=datetime.timezone.utc), content=[FunctionExecutionResult(content='Autogen is a programming framework for building multi-agent applications', name='web_search', call_id='call_dGtYzbIIVNFelKqlitU1kPgA', is_error=False)], type='ToolCallExecutionEvent'), ToolCallSummaryMessage(id='44edb411-d827-4063-88e5-265a6eb72633', source='assistant', models_usage=None, metadata={}, created_at=datetime.datetime(2025, 9, 14, 13, 5, 0, 706148, tzinfo=datetime.timezone.utc), content='Autogen is a programming framework for building multi-agent applications', type='ToolCallSummaryMessage', tool_calls=[FunctionCall(id='call_dGtYzbIIVNFelKqlitU1kPgA', arguments='{\"query\":\"AutoGen technology\"}', name='web_search')], results=[FunctionExecutionResult(content='Autogen is a programming framework for building multi-agent applications', name='web_search', call_id='call_dGtYzbIIVNFelKqlitU1kPgA', is_error=False)])], stop_reason=None)"
      ]
     },
     "execution_count": 14,
     "metadata": {},
     "output_type": "execute_result"
    }
   ],
   "source": [
    "result"
   ]
  },
  {
   "cell_type": "markdown",
   "id": "f543451a",
   "metadata": {},
   "source": [
    "TaskResult(messages=[\n",
    "    TextMessage(id='0e5dec3f-b3cf-4837-af85-928484c635de', source='user', models_usage=None, metadata={}, created_at=datetime.datetime(2025, 9, 14, 13, 4, 59, 257044, tzinfo=datetime.timezone.utc), content='Find information on AutoGen', type='TextMessage'), \n",
    "    \n",
    "    ToolCallRequestEvent(id='f024d1c6-2acb-41d3-9d0c-9f78bf89caba', source='assistant', models_usage=RequestUsage(prompt_tokens=77, completion_tokens=17), metadata={}, created_at=datetime.datetime(2025, 9, 14, 13, 5, 0, 695457, tzinfo=datetime.timezone.utc), content=[FunctionCall(id='call_dGtYzbIIVNFelKqlitU1kPgA', arguments='{\"query\":\"AutoGen technology\"}', name='web_search')], type='ToolCallRequestEvent'), \n",
    "    \n",
    "    ToolCallExecutionEvent(id='5b3c7857-b6bd-4e8c-a44a-5fd1f118a84e', source='assistant', models_usage=None, metadata={}, created_at=datetime.datetime(2025, 9, 14, 13, 5, 0, 706148, tzinfo=datetime.timezone.utc), content=[FunctionExecutionResult(content='Autogen is a programming framework for building multi-agent applications', name='web_search', call_id='call_dGtYzbIIVNFelKqlitU1kPgA', is_error=False)], type='ToolCallExecutionEvent'),\n",
    "    \n",
    "     ToolCallSummaryMessage(id='44edb411-d827-4063-88e5-265a6eb72633', source='assistant', models_usage=None, metadata={}, created_at=datetime.datetime(2025, 9, 14, 13, 5, 0, 706148, tzinfo=datetime.timezone.utc), content='Autogen is a programming framework for building multi-agent applications', type='ToolCallSummaryMessage', tool_calls=[FunctionCall(id='call_dGtYzbIIVNFelKqlitU1kPgA', arguments='{\"query\":\"AutoGen technology\"}', name='web_search')], results=[FunctionExecutionResult(content='Autogen is a programming framework for building multi-agent applications', name='web_search', call_id='call_dGtYzbIIVNFelKqlitU1kPgA', is_error=False)])], stop_reason=None)"
   ]
  },
  {
   "cell_type": "markdown",
   "id": "db8edd20",
   "metadata": {},
   "source": []
  },
  {
   "cell_type": "code",
   "execution_count": null,
   "id": "719fb1b8",
   "metadata": {},
   "outputs": [],
   "source": []
  },
  {
   "cell_type": "code",
   "execution_count": null,
   "id": "909dc80d",
   "metadata": {},
   "outputs": [],
   "source": []
  },
  {
   "cell_type": "code",
   "execution_count": null,
   "id": "a6025b8e",
   "metadata": {},
   "outputs": [],
   "source": []
  },
  {
   "cell_type": "code",
   "execution_count": null,
   "id": "7e611462",
   "metadata": {},
   "outputs": [],
   "source": []
  },
  {
   "cell_type": "code",
   "execution_count": null,
   "id": "72068968",
   "metadata": {},
   "outputs": [],
   "source": []
  }
 ],
 "metadata": {
  "kernelspec": {
   "display_name": "venv (3.12.3)",
   "language": "python",
   "name": "python3"
  },
  "language_info": {
   "codemirror_mode": {
    "name": "ipython",
    "version": 3
   },
   "file_extension": ".py",
   "mimetype": "text/x-python",
   "name": "python",
   "nbconvert_exporter": "python",
   "pygments_lexer": "ipython3",
   "version": "3.12.3"
  }
 },
 "nbformat": 4,
 "nbformat_minor": 5
}
